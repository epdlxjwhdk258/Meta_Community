{
 "cells": [
  {
   "cell_type": "code",
   "execution_count": 1,
   "metadata": {},
   "outputs": [],
   "source": [
    "import os\n",
    "import shutil\n",
    "import pandas as pd\n",
    "import warnings\n",
    "warnings.filterwarnings('ignore')"
   ]
  },
  {
   "cell_type": "code",
   "execution_count": 2,
   "metadata": {},
   "outputs": [
    {
     "name": "stdout",
     "output_type": "stream",
     "text": [
      "변환 및 이동 완료: 생성형 영어 교육.xlsx -> /Users/kookbab/Desktop/연구 정리 KCI/코드/01.articles/new_retrieval-20200101_20250301/csv/생성형 영어 교육.csv\n",
      "변환 및 이동 완료: 생성형 영어교육.xlsx -> /Users/kookbab/Desktop/연구 정리 KCI/코드/01.articles/new_retrieval-20200101_20250301/csv/생성형 영어교육.csv\n",
      "변환 및 이동 완료: 생성형 영어 수업.xlsx -> /Users/kookbab/Desktop/연구 정리 KCI/코드/01.articles/new_retrieval-20200101_20250301/csv/생성형 영어 수업.csv\n"
     ]
    }
   ],
   "source": [
    "def convert_xlsx_to_csv(source_folder, destination_folder):\n",
    "    # 대상 폴더가 없으면 생성\n",
    "    os.makedirs(destination_folder, exist_ok=True)\n",
    "    \n",
    "    # 폴더 내 모든 파일 확인\n",
    "    for file in os.listdir(source_folder):\n",
    "        if file.endswith(\".xlsx\") and not file.startswith(\"~\"):  # 임시 파일 제외\n",
    "            file_path = os.path.join(source_folder, file)\n",
    "            csv_file_path = os.path.join(destination_folder, file.replace(\".xlsx\", \".csv\"))\n",
    "            \n",
    "            # 엑셀 파일 읽기\n",
    "            df = pd.read_excel(file_path)\n",
    "            \n",
    "            # CSV로 저장 (대상 폴더로 이동)\n",
    "            df.to_csv(csv_file_path, index=False, encoding='utf-8-sig')\n",
    "            print(f\"변환 및 이동 완료: {file} -> {csv_file_path}\")\n",
    "\n",
    "# 사용할 폴더 경로 지정\n",
    "source_folder = '/Users/kookbab/Desktop/연구 정리 KCI/코드/01.articles/new_retrieval-20200101_20250301/excel'  # 원본 파일 폴더\n",
    "destination_folder = '/Users/kookbab/Desktop/연구 정리 KCI/코드/01.articles/new_retrieval-20200101_20250301/csv'  # 변환된 파일 저장 폴더\n",
    "convert_xlsx_to_csv(source_folder, destination_folder)\n"
   ]
  },
  {
   "cell_type": "code",
   "execution_count": 3,
   "metadata": {},
   "outputs": [
    {
     "name": "stdout",
     "output_type": "stream",
     "text": [
      "병합된 데이터가 /Users/kookbab/Desktop/연구 정리 KCI/코드/01.articles/new_retrieval-20200101_20250301/csv/merged_output.csv에 저장되었습니다.\n"
     ]
    }
   ],
   "source": [
    "# CSV 파일이 있는 폴더 경로 지정\n",
    "folder_path = '/Users/kookbab/Desktop/연구 정리 KCI/코드/01.articles/new_retrieval-20200101_20250301/csv'\n",
    "\n",
    "# 모든 CSV 파일 불러오기\n",
    "csv_files = [f for f in os.listdir(folder_path) if f.endswith('.csv')]\n",
    "\n",
    "# 빈 리스트 생성 (각 CSV 파일을 담을 리스트)\n",
    "dfs = []\n",
    "\n",
    "for file in csv_files:\n",
    "    file_path = os.path.join(folder_path, file)\n",
    "    df = pd.read_csv(file_path)\n",
    "    \n",
    "    # '뉴스 식별자' 컬럼이 존재하는지 확인 후 추가\n",
    "    if '뉴스 식별자' in df.columns:\n",
    "        dfs.append(df)\n",
    "\n",
    "# 모든 데이터프레임 병합\n",
    "if dfs:\n",
    "    merged_df = pd.concat(dfs, ignore_index=True)\n",
    "    \n",
    "    # '뉴스 식별자' 기준으로 첫 번째 등장하는 값만 유지\n",
    "    merged_df = merged_df.drop_duplicates(subset=['뉴스 식별자'], keep='first')\n",
    "\n",
    "    # 결과 저장\n",
    "    output_path = os.path.join(folder_path, \"merged_output.csv\")\n",
    "    merged_df.to_csv(output_path, index=False)\n",
    "    print(f\"병합된 데이터가 {output_path}에 저장되었습니다.\")\n",
    "else:\n",
    "    print(\"CSV 파일이 없거나 '뉴스 식별자' 컬럼이 포함된 파일이 없습니다.\")\n"
   ]
  }
 ],
 "metadata": {
  "kernelspec": {
   "display_name": "main_environment",
   "language": "python",
   "name": "python3"
  },
  "language_info": {
   "codemirror_mode": {
    "name": "ipython",
    "version": 3
   },
   "file_extension": ".py",
   "mimetype": "text/x-python",
   "name": "python",
   "nbconvert_exporter": "python",
   "pygments_lexer": "ipython3",
   "version": "3.10.13"
  }
 },
 "nbformat": 4,
 "nbformat_minor": 2
}
